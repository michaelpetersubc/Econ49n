{
 "cells": [
  {
   "cell_type": "markdown",
   "id": "e2cc2c55-aa4d-4ccc-a7f0-a21b5541f785",
   "metadata": {},
   "source": [
    "# Stochastic Classification of Economics Departments by Placement Rates\n",
    "\n",
    "James Yu, 27 November 2021"
   ]
  },
  {
   "cell_type": "code",
   "execution_count": 1,
   "id": "1238f0c1-4a57-43a8-afac-56c6d8f2abd0",
   "metadata": {
    "tags": []
   },
   "outputs": [],
   "source": [
    "# import Pkg\n",
    "# Pkg.add(\"Distributions\")\n",
    "# Pkg.add(\"JSON\")\n",
    "using Distributions, JSON"
   ]
  },
  {
   "cell_type": "markdown",
   "id": "698ddbd3-bb54-4003-b8bd-f9fea056634f",
   "metadata": {},
   "source": [
    "This notebook contains an algorithm for classifying Economics departments into a series of types based on placement outcome data.\n",
    "\n",
    "The placement data used is grouped as a dictionary of applicants sorted by year of starting application. In total, the data spans from 2003 to 2021. The procedure for compiling the data is provided in a separate Python file."
   ]
  },
  {
   "cell_type": "code",
   "execution_count": 2,
   "id": "36f54f47-4130-4806-a133-c97f26cda387",
   "metadata": {},
   "outputs": [
    {
     "data": {
      "text/plain": [
       "19-element Vector{String}:\n",
       " \"2003\"\n",
       " \"2004\"\n",
       " \"2005\"\n",
       " \"2006\"\n",
       " \"2007\"\n",
       " \"2008\"\n",
       " \"2009\"\n",
       " \"2010\"\n",
       " \"2011\"\n",
       " \"2012\"\n",
       " \"2013\"\n",
       " \"2014\"\n",
       " \"2015\"\n",
       " \"2016\"\n",
       " \"2017\"\n",
       " \"2018\"\n",
       " \"2019\"\n",
       " \"2020\"\n",
       " \"2021\""
      ]
     },
     "execution_count": 2,
     "metadata": {},
     "output_type": "execute_result"
    }
   ],
   "source": [
    "year_by_year = JSON.parsefile(\"to_from_by_year.json\")\n",
    "sort(collect(keys(year_by_year)))"
   ]
  },
  {
   "cell_type": "markdown",
   "id": "9746234a-b743-45fd-ac0e-6cfe6fb4d4e7",
   "metadata": {},
   "source": [
    "For our estimation, we will only consider placements from 2015 to 2018 as the number of reported graduates on EconJobMarket was the most stable and even over this period. We put all placement outcomes for Assistant Professor positions in one set, and all other placement outcomes in another set. The other placement outcomes are those where applicants were hired at departments that do not graduate Ph.D. students; this includes the public sector, private sector, government, non-academic positions at academic departments and teaching universities, among others."
   ]
  },
  {
   "cell_type": "code",
   "execution_count": 3,
   "id": "e645f01e-1992-4e75-a226-8d2ebea66656",
   "metadata": {},
   "outputs": [
    {
     "name": "stdout",
     "output_type": "stream",
     "text": [
      "2015 has 512 entries\n",
      "2016 has 1145 entries\n",
      "2017 has 837 entries\n",
      "2018 has 912 entries\n",
      "2019 has 1002 entries\n",
      "2020 has 847 entries\n",
      "3608 total assistant professor outcomes\n",
      "1647 other outcomes\n"
     ]
    }
   ],
   "source": [
    "i = 0\n",
    "\n",
    "academic_builder = Set{}()\n",
    "sink_builder = Set{}()\n",
    "name_to_oid = Dict{}()\n",
    "\n",
    "for key in 2015:2020\n",
    "    data = year_by_year[string(key)]\n",
    "    println(key, \" has \", length(keys(data)), \" entries\")\n",
    "    for aid in keys(data)\n",
    "        outcome = data[aid]\n",
    "        name_to_oid[outcome[\"to_name\"]] = string(outcome[\"to_oid\"])\n",
    "        name_to_oid[outcome[\"from_institution_name\"]] = string(outcome[\"from_oid\"])\n",
    "        if outcome[\"position_name\"] == \"Assistant Professor\"\n",
    "            push!(academic_builder, outcome)\n",
    "        else\n",
    "            push!(sink_builder, outcome)\n",
    "        end\n",
    "    end\n",
    "end\n",
    "println(length(academic_builder), \" total assistant professor outcomes\")\n",
    "println(length(sink_builder), \" other outcomes\")"
   ]
  },
  {
   "cell_type": "markdown",
   "id": "4287e841-63e2-4a70-81d6-b08a690175ca",
   "metadata": {},
   "source": [
    "This piece of code deals with teaching universities by checking if they ever graduated Ph.D. students:"
   ]
  },
  {
   "cell_type": "code",
   "execution_count": 4,
   "id": "c45d8559-f4eb-4779-b6bd-d353e78761da",
   "metadata": {},
   "outputs": [
    {
     "name": "stdout",
     "output_type": "stream",
     "text": [
      "361\n",
      "801\n",
      "494\n"
     ]
    }
   ],
   "source": [
    "academic = Set{}()\n",
    "academic_to = Set{}()\n",
    "for outcome in academic_builder\n",
    "    push!(academic, outcome[\"from_institution_name\"])\n",
    "    push!(academic_to, outcome[\"to_name\"])\n",
    "end\n",
    "\n",
    "tch_sink = Set{}() # sink of teaching universities that do not graduate PhDs\n",
    "for key in academic_to\n",
    "    if !(key in academic)\n",
    "        push!(tch_sink, key)\n",
    "    end\n",
    "end\n",
    "\n",
    "println(length(academic))\n",
    "println(length(academic_to))\n",
    "println(length(tch_sink))"
   ]
  },
  {
   "cell_type": "markdown",
   "id": "18c8b40a-9438-4bb1-a39e-d42b0647745d",
   "metadata": {},
   "source": [
    "The next piece of code sorts all the sink departments (except teaching universities, which are dealt with above) by category:"
   ]
  },
  {
   "cell_type": "code",
   "execution_count": 5,
   "id": "a601ba20-e3ed-4756-b017-65c5afcb455c",
   "metadata": {},
   "outputs": [
    {
     "name": "stdout",
     "output_type": "stream",
     "text": [
      "205\n",
      "91\n",
      "102\n"
     ]
    }
   ],
   "source": [
    "filter_sink_builder = Set{}()\n",
    "for outcome in sink_builder\n",
    "    if outcome[\"from_institution_name\"] in academic\n",
    "        push!(filter_sink_builder, outcome)\n",
    "    end\n",
    "end\n",
    "\n",
    "acd_sink = Set{}()\n",
    "gov_sink = Set{}()\n",
    "pri_sink = Set{}()\n",
    "\n",
    "for outcome in filter_sink_builder\n",
    "    # CODE global academic, other_placements, pri_sink, gov_sink, acd_sink\n",
    "    if outcome[\"recruiter_type\"] in [6, 7]\n",
    "        # private sector: for and not for profit\n",
    "        push!(pri_sink, string(outcome[\"to_name\"], \" (private sector)\"))\n",
    "    elseif outcome[\"recruiter_type\"] == 5\n",
    "        # government institution\n",
    "        push!(gov_sink, string(outcome[\"to_name\"], \" (public sector)\"))\n",
    "    else\n",
    "        # everything else including terminal academic positions\n",
    "        push!(acd_sink, string(outcome[\"to_name\"], \" (academic sink)\"))\n",
    "    end\n",
    "end\n",
    "\n",
    "println(length(acd_sink))\n",
    "println(length(gov_sink))\n",
    "println(length(pri_sink))"
   ]
  },
  {
   "cell_type": "markdown",
   "id": "d36590a4-2239-4b81-b511-e0e9613a8217",
   "metadata": {},
   "source": [
    "Now that we have five sets for every category of department, we can construct a matrix representing the placements between these departments:"
   ]
  },
  {
   "cell_type": "code",
   "execution_count": 6,
   "id": "802f49d2-6bb4-4a46-83d8-407145b13c2b",
   "metadata": {},
   "outputs": [
    {
     "name": "stdout",
     "output_type": "stream",
     "text": [
      "Total number of outcomes: 5156\n"
     ]
    }
   ],
   "source": [
    "institutions = vcat(collect(academic), collect(acd_sink), collect(gov_sink), collect(pri_sink), collect(tch_sink))\n",
    "\n",
    "out = zeros(UInt8, length(institutions), length(collect(academic)))\n",
    "i = 0\n",
    "for outcome in academic_builder\n",
    "    i += 1\n",
    "    out[findfirst(isequal(outcome[\"to_name\"]), institutions), findfirst(isequal(outcome[\"from_institution_name\"]), institutions)] += 1\n",
    "end\n",
    "for outcome in filter_sink_builder\n",
    "    i += 1\n",
    "    keycheck = \"\"\n",
    "    if outcome[\"recruiter_type\"] in [6, 7]\n",
    "        keycheck = string(outcome[\"to_name\"], \" (private sector)\")\n",
    "    elseif outcome[\"recruiter_type\"] == 5\n",
    "        keycheck = string(outcome[\"to_name\"], \" (public sector)\")\n",
    "    else\n",
    "        keycheck = string(outcome[\"to_name\"], \" (academic sink)\")\n",
    "    end\n",
    "    out[findfirst(isequal(keycheck), institutions), findfirst(isequal(outcome[\"from_institution_name\"]), institutions)] += 1\n",
    "end\n",
    "println(\"Total number of outcomes: \", i)"
   ]
  },
  {
   "cell_type": "markdown",
   "id": "8952a77d-615f-4263-8939-a3493b94639e",
   "metadata": {},
   "source": [
    "Finally, we get to the estimator. For this estimate, we assume that each observed set of placement outcomes between any two pairs of departments is drawn from a distribution common to the \"type\" of the hiring department and the \"type\" of the graduating department. Here this distribution is assumed to be Poisson, in line with classical stochastic block models used for similar estimations in Karrer and Newman (2011) and Peixoto (2014).\n",
    "\n",
    "Given a particular assignment of departments to types, and given the placement outcomes, a single round of estimation computes the mean number of applicants from any single type $t$ department that would be hired at a single type $t^\\prime$ department and measures the probability that each independent observation was drawn from its corresponding mean. When summed together, the logarithms of the probabilities form a log-likelihood which can be used for maximum likelihood estimation."
   ]
  },
  {
   "cell_type": "code",
   "execution_count": 7,
   "id": "6e85ec67-d09c-4b35-bee8-e27e38a62688",
   "metadata": {},
   "outputs": [
    {
     "data": {
      "text/plain": [
       "bucket_estimator (generic function with 1 method)"
      ]
     },
     "execution_count": 7,
     "metadata": {},
     "output_type": "execute_result"
    }
   ],
   "source": [
    "function bucket_estimator(assign::Array{UInt8}, A::Matrix{UInt8}, num::UInt8)\n",
    "    b = zeros(UInt8, size(A)[1], size(A)[2])\n",
    "    T = zeros(num + 1, num)\n",
    "    count = zeros(num + 1, num)\n",
    "    \n",
    "    for i in 1:size(A)[1], j in 1:size(A)[2]\n",
    "         @inbounds val = (num + 1) * (assign[j] - 1) + assign[i]\n",
    "         @inbounds b[i, j] = val\n",
    "         @inbounds T[val] = ((T[val] * count[val]) + A[i, j]) / (count[val] + 1)\n",
    "         @inbounds count[val] += 1\n",
    "    end\n",
    "    L = 0.0\n",
    "    for i in eachindex(A)\n",
    "        @inbounds L += logpdf(Poisson(max(T[b[i]], 0)), A[i])\n",
    "    end\n",
    "    return -L, T\n",
    "end"
   ]
  },
  {
   "cell_type": "markdown",
   "id": "11595713-7e3a-4dff-85ad-c49045d95981",
   "metadata": {},
   "source": [
    "Finally, we compute the maximum-likelihood estimated Poisson means by stochastically re-allocating departments to types and saving likelihood-improving re-allocations until no further re-allocations are found."
   ]
  },
  {
   "cell_type": "code",
   "execution_count": 8,
   "id": "446f3892-da73-4f39-b16a-3bdae089fee6",
   "metadata": {},
   "outputs": [
    {
     "name": "stdout",
     "output_type": "stream",
     "text": [
      "28602.100477941112 28588.49240571065 28583.92587652919 28571.798771872916 28566.27120759026 28560.231838914173 28551.450381066526 28549.01454840963 28538.96697151123 28529.93232969606 28528.13089107632 28517.638787469165 28505.046515740676 28504.477398884836 28495.546455940632 28488.302072188933 28476.029455803637 28474.493309742804 28463.986411015703 28454.624832385598 28441.781498922224 28427.97844223123 28426.685583227943 28414.936693889646 28400.797752288425 28395.767856659764 28382.24764839557 28368.242055863655 28361.12610911076 28329.783181095077 28329.677268636555 28322.276938692834 28318.785681340043 28305.87453581294 28296.924541643475 28283.684757461382 28278.00476646183 28266.95422060946 28258.56215047416 28258.133513208293 28247.927493923118 28236.29793144306 28235.993680393483 28234.59506160915 28221.588387353873 28218.516948850698 28204.90473010004 28195.067715250312 28182.44133760898 28176.677771835843 28166.437966961712 28159.321809987014 28150.405378692012 28143.779422761367 28134.849823271317 28133.114074452806 28129.294392045125 28116.441671595392 28113.664265460047 28104.651283747287 28089.733893544086 28060.069445222955 28026.141425022714 28025.633365393634 28012.216239116442 27997.686773774818 27997.117587727247 27983.03587625234 27970.147486575974 27950.037684011906 27947.32648999783 27932.292688296355 27930.970457334945 27915.22791249733 27901.73106465593 27889.63583498583 27876.649925378715 27867.420310900507 27852.502091390474 27838.924858844442 27823.36831552221 27808.522047719198 27793.639931719885 27778.19759010519 27766.73710247893 27758.4304384159 27747.000773529355 27729.962480252725 27717.082894393603 27699.752460016967 27684.97795677927 27671.83206142093 27671.71437564549 27659.83452156191 27658.53201243095 27644.49442067979 27629.87481943048 27613.207621603517 27600.61614368115 27584.991876796863 27579.530902274553 27566.89417567789 27555.482450380474 27542.011483000795 27524.42482469116 27520.04310492709 27518.385638739233 27500.932041979297 27484.722513418066 27470.15815294531 27454.376823064034 27451.715009553624 27445.87235079978 27443.856762281983 27429.511805840837 27411.59334035222 27394.407121267683 27375.992151815215 27374.352028131907 27364.168225203408 27363.032615984233 27361.842512510204 27357.293811769916 27315.724494793874 27313.660767850975 27312.436563426472 27297.38087758654 27280.933318033738 27279.101307207842 27277.220714508214 27263.12493715726 27244.882767608196 27241.550180615566 27229.262741905637 27225.828452983395 27225.367939554235 27224.708589509522 27220.888598440237 27204.116640569708 27191.68646277352 27190.964657507597 27185.157781070022 27080.21934983827 27075.15784880196 27073.21560786774 27061.22876676247 27050.498255134014 27049.569590899446 27047.747603167914 27046.383383948556 27041.710720890853 27032.16485047276 27027.431350504357 27011.870879011978 26999.96121997697 26983.740915952214 26966.855739225044 26952.770829092344 26946.657995946312 26932.041383430555 26915.590174554574 26900.720445325216 26897.922165028867 26884.280782939568 26847.21307892748 26810.23045325947 26809.71616426143 26805.0679648409 26793.16442107101 26776.723966610065 26761.245900966132 26760.347459781617 26760.28829359548 26727.93882854687 26722.368601617636 26714.139771463382 26700.033929051282 26683.84751834827 26667.28322265335 26658.273616686653 26648.75384811062 26630.464171966883 26629.06341673867 26612.32974856503 26596.798041111062 26586.13527987594 26568.56765640674 26559.176048462698 26541.8954412897 26521.790466884377 26504.193853225097 26454.399566186952 26448.58489105993 26441.026842825082 26429.468677116154 26416.265683036883 26414.742755331623 26396.496342063303 26377.17350514337 26368.521638866943 26367.589492487616 26364.947754057368 26356.358718454903 26348.757373444994 26339.37935191831 26321.20566382347 26304.72808066005 26287.711711694927 26270.326497252903 26269.0339613936 26254.349613732964 26239.328276455057 26225.012020565176 26149.356084184386 26136.110910251482 26122.97093703349 26121.2566210049 26120.254113769857 26103.82349750154 26103.15827796842 26083.46645796326 26016.914957649995 26016.35765455536 26000.38817021076 25874.723658833384 25874.185599590342 25854.293716587537 25834.978529019343 25814.76884785601 25802.73899783575 25800.87798620294 25792.804631881485 25792.57437316697 25791.812112063613 25791.00271344406 25771.408374237682 25769.649923135647 25753.28160762713 25731.932979404606 25730.605131939305 25730.334421666495 25729.99082837737 25708.93187893066 25707.91058304928 25706.339488615962 25686.50680291661 25669.221349294578 25664.850097223152 25663.945159421968 25661.58642983948 25659.74789658042 25560.350547124384 25540.191511100285 25521.51948910428 25442.65344753027 25425.1618403981 25406.494250774653 25406.318519522734 25387.458168008267 25386.360404493895 25367.734113467883 25357.555245268068 25339.213867796007 25329.346541693838 25329.25756932744 25211.85928739066 25206.550793799015 25205.220619750304 25204.966418286735 25128.568573350844 25109.721015288113 25105.089606249803 25055.565793819922 24823.279150948292 24805.305748590792 24797.752033167133 24795.40039738894 24790.22663254066 24790.073169952786 24788.70311351174 24786.374086107062 24773.64897452571 24763.031875820438 24761.07714539647 24751.297032814404 24748.434564069274 24733.071983489048 24732.797743418992 24717.94897117143 24717.524761961202 24717.48961804386 24715.47610967198 24699.090007935272 24697.687270129023 24695.070098230746 24692.29484937687 24677.214535266026 24677.174232473433 24658.55783968126 24642.13834219638 24630.669165247535 24629.399589474095 24611.980402604106 24582.396066743033 24573.80818225481 24556.350574707278 24554.860369182206 24551.26418098149 24549.69594896948 24548.90645799492 24533.692935953353 24520.021611078046 24513.366127735 24511.31905698856 24511.062119148053 24506.677512759423 24501.616493215417 24494.632337433024 24474.433884198104 24473.731041974566 24470.49525129888 24456.236634546483 24440.857539545897 24424.515263018173 24414.357614960412 24409.277579393314 24407.379072490843 24405.99871282884 24398.55618626588 24398.27798596865 24394.9730085244 24377.0458429879 24374.235293598507 24356.034365953372 24311.714010115284 24290.54520248527 24287.839188403217 24286.388043161318 24283.13214560394 24281.58095307703 24280.96892632187 24280.715540734323 24277.83885051263 24276.69307702884 24271.95900730931 24264.618860212035 24262.18644845618 24260.661851685574 24205.25772307279 24203.407818471926 24202.983513609663 24201.041652328106 24198.532647743592 24186.13300794101 24183.41919398943 24156.1881105131 24153.853199060926 24149.61267135666 24140.902191752244 24137.555398814646 24134.939317768443 24134.574685568212 24129.913769712508 24125.909212735754 24122.19069048972 24110.052608420723 24109.09727336806 24090.445807046024 24090.36192031555 24089.420495677532 24010.361459053445 24004.86188033289 24004.75949383181 23999.62989100383 23999.61795029936 23995.52971407355 23992.12481119436 23987.21900455588 23983.054504214164 23976.15231205187 23971.819238710257 23970.760638035325 23964.0158398314 23958.480864859182 23954.61785739546 23870.837011408676 23861.59722448586 23859.534159127106 23859.319832270572 23858.438634777824 23856.770427562584 23852.60259179755 23833.176881664986 23829.41687746694 23825.483382916926 23822.6206122028 23822.04186405196 23743.35774512106 23735.598089690586 23733.538143470614 23731.937881160695 23730.450778726306 23724.90799992547 23722.32332963877 23720.400370688905 23702.872393628022 23700.215885775648 23694.001908520157 23693.177835759045 23687.83956515181 23681.929587505365 23673.699436259034 23671.82500391071 23670.079821278723 23668.43616194991 23666.823568075248 23658.84747105561 23655.948537987213 23654.73364487128 23654.59016696922 23653.808862743845 23648.5759189463 23648.556706505206 23644.273433133436 23639.70297893214 23621.94953812565 23616.16662517894 23615.465766046753 23614.012705535733 23613.13458174147 23609.884319446446 23607.246751192906 23606.008547688805 23599.989888809152 23567.48521890958 23563.06956874599 23488.45770876142 23484.601658506308 23483.137089442025 23471.18077234391 23452.600650103923 23448.953734033905 23448.15563487534 23446.74894676385 23443.35877545385 23439.694292500917 23434.855600022118 23431.396820384376 23431.19094294391 23430.036605846926 23428.355825279166 23425.720742412163 23422.220712174025 23414.946055656124 23402.505957175243 23402.426856477534 23396.04027613759 23395.86556859545 23395.773161850295 23391.175445359262 23389.356923092226 23387.124139409752 23383.51785941199 23383.320931049177 23382.735283754006 23379.4085712782 23375.70946653521 23374.92426221298 23369.785955699812 23367.112455751885 23363.578636251084 23361.903963193156 23361.632622121 23361.068563729008 23354.67434629741 23354.242379036637 23348.33214226837 23343.234373313542 23335.234822462557 23334.11985670887 23330.269061178944 23322.22172922433 23322.01015772119 23310.296938309606 23304.424663160167 23300.900303272752 23299.93331144537 23299.053029209135 23295.23898750229 23294.931667529392 23293.794466569958 23292.37214978473 23276.44293353886 23272.057987511922 23268.299779808127 23268.022687646248 23084.773245109158 23084.56294797546 23078.670440278584 23078.036502511633 23075.385444917694 23075.08895075174 23075.026341988992 23075.003995075404 23068.104168600094 23063.332791870576 23062.36233023913 23060.617150117938 23060.60050228626 23060.474336564064 23060.271222772768 23058.208783861548 23058.172438762733 23057.93316271955 23057.057659277372 23056.218215842346 23054.03170261282 23053.946637926492 23053.82210783866 23053.45761544548 23050.880035613984 23050.466179532425 23048.087124950656 23048.085108836418 23047.437109227 1000 23047.069440195286 23046.87260233108 23046.303267735395 23046.091844603245 23046.066578102524 1000 23045.864942101263 23045.29931988815 23045.058531692346 1000 23044.97979184816 23044.700689972018 23044.47176619976 23044.30575357509 23044.215505867654 1000 23044.07446564062 23041.891123820646 23041.36069360168 23041.048203228795 1000 2000 3000 4000 5000 6000 7000 8000 9000 10000 11000 12000 13000 14000 15000 16000 17000 18000 19000 20000 21000 22000 23000 24000 25000 26000 27000 28000 29000 30000 31000 32000 33000 34000 35000 36000 37000 38000 39000 40000 41000 42000 43000 44000 45000 46000 47000 48000 49000 50000 51000 52000 53000 54000 55000 56000 57000 58000 59000 60000 61000 62000 63000 64000 65000 66000 67000 68000 69000 70000 71000 72000 73000 74000 75000 76000 77000 78000 79000 80000 81000 82000 83000 84000 85000 86000 87000 88000 89000 90000 91000 92000 93000 94000 95000 96000 97000 98000 99000 100000 "
     ]
    },
    {
     "data": {
      "text/plain": [
       "(23041.048203228795, [0.07511569953720185 0.0024826216484607764 0.007686932215234123 0.3108715184186885; 0.009433962264150933 0.0023372576177285464 0.0023391812865497037 0.015977443609022556; … ; 0.07097933513027847 0.002819548872180451 0.005291005291005287 0.7551020408163263; 0.019396734072256564 0.001320214774604679 0.004849692742069441 0.05573350416399737], UInt8[0x04, 0x02, 0x03, 0x01, 0x03, 0x03, 0x02, 0x01, 0x03, 0x02  …  0x05, 0x05, 0x05, 0x05, 0x05, 0x05, 0x05, 0x05, 0x05, 0x05])"
      ]
     },
     "execution_count": 8,
     "metadata": {},
     "output_type": "execute_result"
    }
   ],
   "source": [
    "function doit(sample, academic_institutions, asink, gsink, psink, tsink, all_institutions, num)\n",
    "    # some initial states\n",
    "    current_allocation = Array{UInt8}(undef, length(all_institutions))\n",
    "    cur_objective = Inf\n",
    "    best_mat = nothing\n",
    "    cursor = 1\n",
    "    for inst in academic_institutions\n",
    "        current_allocation[cursor] = 1\n",
    "        cursor += 1\n",
    "    end\n",
    "    # except that the sinks must stay in types\n",
    "    # this was built to support more sinks, but here we only use one\n",
    "    for key in asink\n",
    "        current_allocation[cursor] = num + 1\n",
    "        cursor += 1\n",
    "    end\n",
    "    for key in gsink\n",
    "        current_allocation[cursor] = num + 1\n",
    "        cursor += 1\n",
    "    end\n",
    "    for key in psink\n",
    "        current_allocation[cursor] = num + 1\n",
    "        cursor += 1\n",
    "    end\n",
    "    for key in tsink\n",
    "        current_allocation[cursor] = num + 1\n",
    "        cursor += 1\n",
    "    end\n",
    "    blankcount = 0\n",
    "    \n",
    "    # BEGIN MONTE CARLO REALLOCATION ROUTINE\n",
    "    while true\n",
    "        # attempt to reallocate academic institutions to a random spot\n",
    "        temp_allocation = copy(current_allocation)\n",
    "        k = rand(1:length(academic_institutions))\n",
    "        @inbounds temp_allocation[k] = rand(delete!(Set(1:num), temp_allocation[k]))\n",
    "        # check if the new assignment is better\n",
    "        test_objective, estimated_means = bucket_estimator(temp_allocation, sample, num)\n",
    "        if test_objective < cur_objective\n",
    "            print(test_objective, \" \")\n",
    "            blankcount = 0\n",
    "            cur_objective = test_objective\n",
    "            best_mat = estimated_means\n",
    "            current_allocation = temp_allocation\n",
    "        else\n",
    "            blankcount += 1\n",
    "            if blankcount % 1000 == 0\n",
    "                print(blankcount, \" \")\n",
    "            end\n",
    "        end\n",
    "        if blankcount == 100000\n",
    "            return cur_objective, best_mat, current_allocation\n",
    "        end\n",
    "    end\n",
    "end\n",
    "\n",
    "SELECT_COUNT = 4 # four type allocation used here\n",
    "est_obj, est_mat, est_alloc = doit(out, collect(academic), collect(acd_sink), collect(gov_sink), collect(pri_sink), collect(tch_sink), institutions, UInt8(SELECT_COUNT))"
   ]
  },
  {
   "cell_type": "code",
   "execution_count": 9,
   "id": "1b9ba883-d2bc-4813-ac6f-6ee588477806",
   "metadata": {},
   "outputs": [
    {
     "data": {
      "text/plain": [
       "5×4 Matrix{Float64}:\n",
       " 0.0751157   0.00248262  0.00768693  0.310872\n",
       " 0.00943396  0.00233726  0.00233918  0.0159774\n",
       " 0.0589797   0.00131579  0.013059    0.158025\n",
       " 0.0709793   0.00281955  0.00529101  0.755102\n",
       " 0.0193967   0.00132021  0.00484969  0.0557335"
      ]
     },
     "execution_count": 9,
     "metadata": {},
     "output_type": "execute_result"
    }
   ],
   "source": [
    "est_mat"
   ]
  },
  {
   "cell_type": "markdown",
   "id": "fca91817-9938-48fb-9168-62993d6e675f",
   "metadata": {},
   "source": [
    "Test reallocating all departments:"
   ]
  },
  {
   "cell_type": "code",
   "execution_count": 14,
   "id": "5874cdd6-7d03-4145-ad4c-37d6a900dd04",
   "metadata": {
    "tags": []
   },
   "outputs": [
    {
     "name": "stdout",
     "output_type": "stream",
     "text": [
      "1 2 3 4 5 6 7 8 9 10 11 12 13 14 15 16 17 18 19 20 21 22 23 24 25 26 27 28 29 30 31 32 33 34 35 36 37 38 39 40 41 42 43 44 45 46 47 48 49 50 51 52 53 54 55 56 57 58 59 60 61 62 63 64 65 66 67 68 69 70 71 72 73 74 75 76 77 78 79 80 81 82 83 84 85 86 87 88 89 90 91 92 93 94 95 96 97 98 99 100 101 102 103 104 105 106 107 108 109 110 111 112 113 114 115 116 117 118 119 120 121 122 123 124 125 126 127 128 129 130 131 132 133 134 135 136 137 138 139 140 141 142 143 144 145 146 147 148 149 150 151 152 153 154 155 156 157 158 159 160 161 162 163 164 165 166 167 168 169 170 171 172 173 174 175 176 177 178 179 180 181 182 183 184 185 186 187 188 189 190 191 192 193 194 195 196 197 198 199 200 201 202 203 204 205 206 207 208 209 210 211 212 213 214 215 216 217 218 219 220 221 222 223 224 225 226 227 228 229 230 231 232 233 234 235 236 237 238 239 240 241 242 243 244 245 246 247 248 249 250 251 252 253 254 255 256 257 258 259 260 261 262 263 264 265 266 267 268 269 270 271 272 273 274 275 276 277 278 279 280 281 282 283 284 285 286 287 288 289 290 291 292 293 294 295 296 297 298 299 300 301 302 303 304 305 306 307 308 309 310 311 312 313 314 315 316 317 318 319 320 321 322 323 324 325 326 327 328 329 330 331 332 333 334 335 336 337 338 339 340 341 342 343 344 345 346 347 348 349 350 351 352 353 354 355 356 357 358 359 360 361 362 "
     ]
    }
   ],
   "source": [
    "new_alloc = copy(est_alloc)\n",
    "for pos in 1:length(new_alloc)\n",
    "    print(pos, \" \")\n",
    "    if new_alloc[pos] != 5\n",
    "        best = new_alloc[pos]\n",
    "        L, T = bucket_estimator(est_alloc, out, UInt8(4))\n",
    "        for test in 1:4\n",
    "            if test != new_alloc[pos]\n",
    "                temp_alloc = copy(new_alloc)\n",
    "                temp_alloc[pos] = test\n",
    "                nL, nT = bucket_estimator(temp_alloc, out, UInt8(4))\n",
    "                if nL < L\n",
    "                    best = test\n",
    "                    L = nL\n",
    "                    T = nT\n",
    "                    println(\"found a swap\")\n",
    "                elseif nL == L\n",
    "                    best = test\n",
    "                    L = nL\n",
    "                    T = nT\n",
    "                    println(\"found an ok swap\")\n",
    "                end\n",
    "            end\n",
    "            new_alloc[pos] = best\n",
    "        end\n",
    "    else\n",
    "        break\n",
    "    end\n",
    "end"
   ]
  },
  {
   "cell_type": "markdown",
   "id": "1186945a-377e-4e8f-a0ee-98914ea72cd8",
   "metadata": {},
   "source": [
    "No higher-likelihood movements are possible."
   ]
  },
  {
   "cell_type": "markdown",
   "id": "99a78347-7fb2-44c2-801f-0165daf759b8",
   "metadata": {},
   "source": [
    "The estimated means are:"
   ]
  },
  {
   "cell_type": "code",
   "execution_count": 16,
   "id": "f558a63c-2af1-42a7-a483-bb83cd0270c1",
   "metadata": {},
   "outputs": [
    {
     "data": {
      "text/plain": [
       "5×4 Matrix{Int64}:\n",
       " 211   20   55   346\n",
       "  76   54   48    51\n",
       " 422   27  238   448\n",
       "  79    9   15   333\n",
       " 917  179  584  1044"
      ]
     },
     "execution_count": 16,
     "metadata": {},
     "output_type": "execute_result"
    }
   ],
   "source": [
    "function bucket_estimate_extract(assign::Array{UInt8}, A::Matrix{UInt8}, num::UInt8)\n",
    "    T = zeros(Int64, num + 1, num) \n",
    "    for i in 1:size(A)[1], j in 1:size(A)[2]\n",
    "         @inbounds T[(num + 1) * (assign[j] - 1) + assign[i]] += A[i, j]\n",
    "    end\n",
    "    return T\n",
    "end\n",
    "\n",
    "est_mat_placement = bucket_estimate_extract(est_alloc, out, UInt8(4))"
   ]
  },
  {
   "cell_type": "markdown",
   "id": "019e0ac3-cfad-4dfc-bd36-1c3be852844a",
   "metadata": {},
   "source": [
    "Sort into decreasing order:"
   ]
  },
  {
   "cell_type": "code",
   "execution_count": 17,
   "id": "b7df9dd9-c192-4435-9f8b-6a7ab5be9976",
   "metadata": {},
   "outputs": [
    {
     "data": {
      "text/plain": [
       "5-element Vector{Int64}:\n",
       " 2\n",
       " 4\n",
       " 3\n",
       " 1\n",
       " 5"
      ]
     },
     "execution_count": 17,
     "metadata": {},
     "output_type": "execute_result"
    }
   ],
   "source": [
    "sink_sum = sum(est_mat_placement[i, :] for i in 5:5)\n",
    "indices_of_greatest_elements = sortperm(sink_sum, rev = true)\n",
    "order = zeros(Int64, length(sink_sum))\n",
    "for i in 1:length(sink_sum)\n",
    "    order[indices_of_greatest_elements[i]] = i\n",
    "end\n",
    "for i in 5:5\n",
    "    push!(order, i)\n",
    "end\n",
    "order"
   ]
  },
  {
   "cell_type": "code",
   "execution_count": 18,
   "id": "58e80078-1bd5-488b-863e-de34a9611d2b",
   "metadata": {},
   "outputs": [
    {
     "data": {
      "text/plain": [
       "5×4 Matrix{Int64}:\n",
       "  333   79   15    9\n",
       "  346  211   55   20\n",
       "  448  422  238   27\n",
       "   51   76   48   54\n",
       " 1044  917  584  179"
      ]
     },
     "execution_count": 18,
     "metadata": {},
     "output_type": "execute_result"
    }
   ],
   "source": [
    "placement_rates = zeros(Int64, (5, 4))\n",
    "\n",
    "for i in 1:5, j in 1:4\n",
    "    placement_rates[order[i], order[j]] = est_mat_placement[i, j]\n",
    "end\n",
    "placement_rates"
   ]
  },
  {
   "cell_type": "markdown",
   "id": "194dc101-97eb-488e-aeec-52c1ba35a188",
   "metadata": {},
   "source": [
    "The type allocation associated with these means is:"
   ]
  },
  {
   "cell_type": "code",
   "execution_count": 27,
   "id": "922a980e-0387-4110-9e6b-6201710680d5",
   "metadata": {
    "tags": []
   },
   "outputs": [
    {
     "name": "stdout",
     "output_type": "stream",
     "text": [
      "TYPE 1\n",
      "\n",
      "914 Columbia University\n",
      "1834 University of Pennsylvania\n",
      "85 University of Wisconsin, Madison\n",
      "37 Boston University\n",
      "881 New York University\n",
      "603 Cornell University\n",
      "678 Northwestern University\n",
      "499 Ohio State University\n",
      "343 University of California, Berkeley\n",
      "1691 London School of Economics and Political Science\n",
      "658 University of Minnesota, Twin Cities\n",
      "1926 Harvard University\n",
      "36 University of California Los Angeles (UCLA)\n",
      "336 Yale University\n",
      "2282 Stanford University\n",
      "40 University of Toronto\n",
      "186 University of Michigan\n",
      "24 Duke University\n",
      "20 University of Maryland\n",
      "886 Princeton University\n",
      "394 University of Chicago\n",
      "\n",
      "\n",
      "TYPE 2\n",
      "\n",
      "110 Rice University\n",
      "2010 Massachusetts Institute of Technology\n",
      "253 University of Rochester\n",
      "250 Vrije Universiteit Amsterdam\n",
      "3203 London Business School\n",
      "891 University of Bonn (Rheinische Friedrich-Wilhelms-Universität Bonn)\n",
      "22 Syracuse University\n",
      "218 University of Arizona\n",
      "44 University of California, San Diego\n",
      "362 Boston College\n",
      "143 University of Warwick\n",
      "203 Toulouse School of Economics\n",
      "83 University of Virginia\n",
      "507 National University of Singapore\n",
      "67 University of British Columbia\n",
      "70 Maastricht University\n",
      "354 University of Southern California\n",
      "105 University of Washington\n",
      "1347 Singapore Management University\n",
      "539 Washington State University\n",
      "95 Clemson University\n",
      "1575 University of California, Riverside\n",
      "139 University of Cambridge\n",
      "488 McGill University\n",
      "217 University of Oxford\n",
      "41 Michigan State University\n",
      "55 University of Texas at Austin\n",
      "1582 University of California, Davis\n",
      "204 University of Mannheim (Universität Mannheim)\n",
      "80 Stockholm University\n",
      "793 Vanderbilt University\n",
      "267 Erasmus University Rotterdam\n",
      "1192 Tilburg University\n",
      "220 Bocconi University (Università Bocconi)\n",
      "453 Universitat Pompeu Fabra\n",
      "86 Purdue University\n",
      "84 Washington University in St. Louis\n",
      "28 Brown University\n",
      "49 Johns Hopkins University\n",
      "2778 University of Notre Dame\n",
      "522 Carnegie Mellon University\n",
      "596 Texas A&M University, College Station\n",
      "154 Pennsylvania State University\n",
      "1309 University College London\n",
      "5529 University of Connecticut\n",
      "1191 University of Nottingham\n",
      "1991 Stockholm School of Economics\n",
      "476 George Washington University\n",
      "1015 University of Illinois at Urbana-Champaign\n",
      "432 Arizona State University\n",
      "108 Universidad Carlos III de Madrid\n",
      "1361 University of California, Santa Barbara\n",
      "73 University of Colorado, Boulder\n",
      "\n",
      "\n",
      "TYPE 3\n",
      "\n",
      "330 University of Massachusetts, Amherst\n",
      "255 Lancaster University\n",
      "65 Eastern Kentucky University\n",
      "3008 Peking University\n",
      "3355 University of Lausanne (Université de Lausanne)\n",
      "99 Georgetown University\n",
      "533 Universidad de los Andes\n",
      "1080 Hong Kong Baptist University\n",
      "332 Simon Fraser University\n",
      "1788 Colorado State University\n",
      "477 University of Leicester\n",
      "1343 University of Amsterdam (Universiteit van Amsterdam)\n",
      "4820 Wuhan University\n",
      "2756 George Mason University\n",
      "634 Drexel University\n",
      "3527 University of Miami\n",
      "160 Concordia University\n",
      "766 University of Kentucky\n",
      "807 National Taiwan University\n",
      "2032 Auburn University\n",
      "970 University of Kent\n",
      "1385 ETH Zurich (Swiss Federal Institute of Technology; Eidgenössische Technische Hochschule)\n",
      "386 University of Edinburgh\n",
      "781 National Research University Higher School of Economics, Moscow\n",
      "954 Norwegian School of Economics (NHH)\n",
      "774 University of St Andrews\n",
      "61 Western University\n",
      "1464 City University of Hong Kong\n",
      "511 Australian National University\n",
      "902 University of Copenhagen (Københavns Universitet)\n",
      "580 Carleton University\n",
      "1706 Wayne State University\n",
      "249 University of Groningen (Rijksuniversiteit Groningen)\n",
      "2983 California Institute of Technology (Caltech)\n",
      "385 Aalto University\n",
      "1046 University of Nebraska, Lincoln\n",
      "1326 Katholieke Universiteit Leuven (KU Leuven)\n",
      "1625 University of North Carolina, Chapel Hill\n",
      "856 University of Ottawa\n",
      "3544 Rutgers, The State University of New Jersey\n",
      "289 Georgia Institute of Technology\n",
      "1650 Indiana University Bloomington\n",
      "916 Copenhagen Business School\n",
      "636 Miami University\n",
      "298 University of Vienna (Universität Wien)\n",
      "688 University of Sydney\n",
      "277 University of New Mexico\n",
      "1847 University of Utah\n",
      "960 University of Glasgow\n",
      "398 Sciences Po\n",
      "106 University of Hong Kong\n",
      "96 University of South Carolina\n",
      "7769 University of Missouri, Columbia\n",
      "953 Queen Mary University of London\n",
      "1676 Iowa State University\n",
      "240 Aarhus University\n",
      "2581 Koç University\n",
      "179 University of Calgary\n",
      "45 Stony Brook University (SUNY)\n",
      "208 École d'Économie de Paris (Paris School of Economics)\n",
      "3096 Goethe-Universität Frankfurt am Main\n",
      "109 Monash University\n",
      "2054 Oregon State University\n",
      "752 Queen's University\n",
      "4638 Fudan University\n",
      "2198 University of Exeter\n",
      "2029 University of Florida\n",
      "560 Binghamton University (SUNY)\n",
      "1176 Hong Kong University of Science and Technology\n",
      "1100 West Virginia University\n",
      "679 University of Oklahoma\n",
      "97 University of New South Wales (UNSW), Sydney\n",
      "1753 Imperial College London\n",
      "2493 Florida International University\n",
      "947 CERGE-EI (Center for Economic Research and Graduate Education – Economics Institute)\n",
      "428 University of Essex\n",
      "1501 University of California, Irvine\n",
      "2222 University of Oregon\n",
      "897 New York University Abu Dhabi\n",
      "181 University of Tennessee, Knoxville\n",
      "1717 University of Alberta\n",
      "1065 North Carolina State University\n",
      "466 Georgia State University\n",
      "459 Southern Methodist University\n",
      "2270 Chinese University of Hong Kong\n",
      "6160 Universíté de Montréal (University of Montreal)\n",
      "712 Kansas State University\n",
      "2046 University of Cologne (Universität zu Köln)\n",
      "3619 BI Norwegian Business School\n",
      "4652 University of Guelph\n",
      "869 University of Kansas\n",
      "3806 Nanyang Technological University\n",
      "1798 University of Houston\n",
      "1965 University of Alabama\n",
      "1306 Shanghai University of Finance and Economics\n",
      "633 University of Bristol\n",
      "831 University of Sussex\n",
      "334 University of Melbourne\n",
      "1601 University of California, Santa Cruz\n",
      "786 INSEAD\n",
      "1621 Texas Tech University\n",
      "585 Louisiana State University\n",
      "702 Tulane University\n",
      "1077 University of Gothenburg (Göteborgs Universitet)\n",
      "1826 Baruch College, City University of New York\n",
      "4840 University of Illinois at Chicago\n",
      "33 University of Pittsburgh\n",
      "794 Northeastern University\n",
      "180 Ryerson University\n",
      "748 University of Arkansas\n",
      "112 CEMFI\n",
      "416 University of Georgia\n",
      "623 Tsinghua University\n",
      "1159 Utrecht University (Universiteit Utrecht)\n",
      "620 Middle Tennessee State University\n",
      "474 McMaster University\n",
      "323 European University Institute\n",
      "2024 Ludwig-Maximilians-Universitat München (LMU) (University of Munich)\n",
      "632 Oklahoma State University\n",
      "308 Birkbeck College, University of London\n",
      "226 University of Delaware\n",
      "82 Florida State University\n",
      "201 Uppsala University (Uppsala Universitet)\n",
      "1059 Virginia Tech\n",
      "286 Università di Bologna (University of Bologna)\n",
      "2713 University of Hawaiʻi at Mānoa\n",
      "360 Universidad de Navarra\n",
      "2817 Université Libre de Bruxelles\n",
      "4828 Emory University\n",
      "3030 American University\n",
      "47 Universitat Autònoma de Barcelona\n",
      "952 University of Zurich (Universität Zürich)\n",
      "921 Lund University (Lunds Universitet)\n",
      "1872 Fundação Getulio Vargas (FGV)\n",
      "351 Temple University\n",
      "\n",
      "\n",
      "TYPE 4\n",
      "\n",
      "1421 Indian Statistical Institute, Delhi\n",
      "675 University of Oslo\n",
      "2519 Bentley University\n",
      "1348 ESMT Berlin (European School of Management and Technology)\n",
      "1052 Insper (Institute of Education and Research)\n",
      "1984 University of Vaasa\n",
      "3745 Korea University\n",
      "1685 LUISS Guido Carli\n",
      "233 University of Bern (Universität Bern)\n",
      "948 Université catholique de Louvain\n",
      "1227 Stellenbosch University\n",
      "784 University of Adelaide\n",
      "2121 Central Michigan University\n",
      "118 University of Texas at Arlington\n",
      "8057 Cochin University of Science and Technology\n",
      "4659 University of Limerick\n",
      "6708 Kurukshetra University\n",
      "4144 Trinity College Dublin, University of Dublin\n",
      "3790 ESCP Business School (École supérieure de commerce de Paris)\n",
      "1085 Harbin Institute of Technology, Shenzhen\n",
      "2776 University of Liverpool\n",
      "1920 Martin Luther University of Halle-Wittenberg (Martin-Luther-Universität Halle-Wittenberg)\n",
      "1088 Shiv Nadar University\n",
      "966 Universiteit Antwerpen (University of Antwerp)\n",
      "1836 Freie Universität Berlin\n",
      "1170 International Monetary Fund (IMF)\n",
      "219 Ecole Polytechnique (IP Paris)\n",
      "2918 University of Nevada, Las Vegas (UNLV)\n",
      "1042 Hebrew University of Jerusalem\n",
      "1620 Université Laval\n",
      "1392 EDHEC Business School (Ecole des Hautes Etudes Commerciales du Nord)\n",
      "2489 University of Innsbruck (Universität Innsbruck)\n",
      "1527 The New School\n",
      "3211 Humboldt University Berlin (Humboldt-Universität zu Berlin)\n",
      "274 Middle East Technical University\n",
      "135 Universidad de Alicante (University of Alicante)\n",
      "1401 University of Bath\n",
      "1769 Université de Bordeaux (University of Bordeaux)\n",
      "368 University of Waterloo\n",
      "4640 Penn State Abington\n",
      "7104 Bharathidasan University\n",
      "543 Bilkent University (Bilkent Üniversitesi)\n",
      "2188 University of Iowa\n",
      "23 Brandeis University\n",
      "1094 City University of London\n",
      "814 Vienna Graduate School of Finance (VGSF)\n",
      "2675 Deakin University\n",
      "1415 Ghent University\n",
      "3216 Heriot Watt University\n",
      "2533 Massey University\n",
      "1308 Universidade Nova de Lisboa\n",
      "1354 Université de Genève (University of Geneva)\n",
      "4740 Kyoto University\n",
      "4696 Sabancı University\n",
      "4639 Delft University of Technology (Technische Universiteit Delft)\n",
      "1469 Royal Melbourne Institute of Technology (RMIT)\n",
      "1973 Suffolk University\n",
      "136 Royal Holloway, University of London\n",
      "8313 Zhejiang Gongshang University\n",
      "3657 University of South Florida\n",
      "1282 University of Tasmania\n",
      "3642 Indian Institute of Management Bangalore\n",
      "4067 Marquette University\n",
      "4114 Occidental College\n",
      "2239 Clark University\n",
      "2595 Indian Institute of Management Indore\n",
      "48 IMT School for Advanced Studies Lucca\n",
      "2201 York University\n",
      "1921 SKEMA Business School\n",
      "5751 Technical University of Crete\n",
      "363 Loyola Marymount University\n",
      "310 University of Queensland\n",
      "284 Université de Strasbourg (University of Strasbourg)\n",
      "3820 University of New Orleans\n",
      "747 Ball State University\n",
      "1514 Northern Illinois University\n",
      "1296 Middle East Technical University - Northern Cyprus Campus\n",
      "3494 St. Thomas University\n",
      "256 University of East Anglia\n",
      "768 University of Surrey\n",
      "1263 University of Northern British Columbia\n",
      "382 Universitat de Barcelona\n",
      "1480 University of Manchester\n",
      "4250 Quaid-i-Azam University\n",
      "232 Howard University\n",
      "2213 University of Leeds\n",
      "888 University of Victoria\n",
      "874 Otto-von-Guericke University Magdeburg\n",
      "1363 Central European University\n",
      "272 University of Cape Town\n",
      "2961 Towson University\n",
      "6161 National Central University\n",
      "1856 University of Tirana (Universiteti i Tiranës)\n",
      "229 University of Konstanz (Universität Konstanz)\n",
      "4401 Universiti Malaysia Perlis\n",
      "422 Universitat de València (University of Valencia)\n",
      "1091 Ca' Foscari University Venice (Università Ca’ Foscari)\n",
      "2347 City University of New York Graduate Center\n",
      "911 Vienna University of Economics and Business\n",
      "133 Wabash College\n",
      "1470 Università Degli Studi di Milano (University of Milan)\n",
      "2566 Loughborough University\n",
      "740 University at Albany (SUNY)\n",
      "1727 University of Maine, Orono\n",
      "4624 University College Dublin\n",
      "3552 Universidad de Zaragoza\n",
      "789 University of South Alabama\n",
      "6998 Sam Houston State University\n",
      "835 Università della Svizzera Italiana (University of Lugano)\n",
      "2230 University of Wisconsin, Milwaukee\n",
      "2122 Università Cattolica del Sacro Cuore\n",
      "1260 University of Lisbon (Universidade de Lisboa)\n",
      "1998 SOAS (School of Oriental and African Studies), University of London\n",
      "1803 University of Nevada, Reno\n",
      "2384 University of Mississippi\n",
      "730 California State Polytechnic University, Pomona\n",
      "152 University of Luxembourg (Université du Luxembourg/Universität Luxemburg)\n",
      "1003 Seoul National University\n",
      "1134 Heidelberg University\n",
      "758 Frankfurt School of Finance & Management\n",
      "247 Universitat Rovira i Virgili\n",
      "3239 Indian Institute of Technology, Kanpur\n",
      "1981 Johannes Kepler University Linz\n",
      "930 University of Saskatchewan\n",
      "4361 Universiti Utara Malaysia\n",
      "731 MINES ParisTech\n",
      "1365 Kiel Institute for the World Economy\n",
      "4226 Universidad Pontificia Comillas\n",
      "2737 University of Warsaw (Uniwersytet Warszawski)\n",
      "3082 Università degli Studi di Firenze (University of Florence)\n",
      "3284 University of Tokyo\n",
      "98 Colorado School of Mines\n",
      "821 Texas A&M International University\n",
      "1663 Claremont Graduate University\n",
      "457 Chr. Michelsen Institute (CMI)\n",
      "4107 Federal University of Paraná (Universidade Federal do Paraná)\n",
      "3566 Technische Universität Berlin\n",
      "1220 Bank of Finland\n",
      "4666 University of Strathclyde\n",
      "7421 Academia Sinica\n",
      "776 University of Colorado, Denver\n",
      "494 Dalian University of Technology\n",
      "1049 DePauw University\n",
      "3489 University of Texas at Dallas\n",
      "809 University of Helsinki (Helsingin yliopisto)\n",
      "1189 Université Paris-Dauphine\n",
      "830 University of Wyoming\n",
      "817 National Research University Higher School of Economics, St. Petersburg\n",
      "638 HEC Paris\n",
      "4057 SUNY Buffalo State\n",
      "1045 Hong Kong Polytechnic University\n",
      "2455 ESSEC Business School\n",
      "\n",
      "\n"
     ]
    }
   ],
   "source": [
    "for j in 1:SELECT_COUNT\n",
    "    println(\"TYPE \", j)\n",
    "    println()\n",
    "    i = 1\n",
    "    for entry in est_alloc\n",
    "        if order[entry] == j\n",
    "            println(name_to_oid[institutions[i]], \" \", institutions[i])\n",
    "        end\n",
    "        i += 1\n",
    "    end\n",
    "    println()\n",
    "    println()\n",
    "end"
   ]
  },
  {
   "cell_type": "markdown",
   "id": "d080b1b9-d160-4c83-924c-a1853b3f850f",
   "metadata": {},
   "source": [
    "The numerical form of the type allocation, to be used for estimating the deep parameters, is:"
   ]
  },
  {
   "cell_type": "code",
   "execution_count": 20,
   "id": "31b30bcb-8ad5-446e-bcb1-9f83515d1805",
   "metadata": {},
   "outputs": [
    {
     "name": "stdout",
     "output_type": "stream",
     "text": [
      "UInt8[0x04, 0x02, 0x03, 0x01, 0x03, 0x03, 0x02, 0x01, 0x03, 0x02, 0x03, 0x03, 0x02, 0x02, 0x02, 0x01, 0x03, 0x02, 0x02, 0x02, 0x01, 0x03, 0x03, 0x03, 0x02, 0x02, 0x02, 0x03, 0x01, 0x03, 0x02, 0x03, 0x04, 0x03, 0x02, 0x03, 0x03, 0x03, 0x03, 0x02, 0x03, 0x03, 0x02, 0x02, 0x03, 0x03, 0x02, 0x03, 0x02, 0x02, 0x03, 0x03, 0x03, 0x01, 0x04, 0x02, 0x01, 0x02, 0x01, 0x04, 0x01, 0x03, 0x04, 0x03, 0x02, 0x02, 0x01, 0x02, 0x01, 0x01, 0x03, 0x02, 0x02, 0x03, 0x03, 0x02, 0x02, 0x02, 0x03, 0x03, 0x01, 0x01, 0x04, 0x01, 0x02, 0x03, 0x02, 0x01, 0x03, 0x01, 0x03, 0x03, 0x03, 0x02, 0x02, 0x02, 0x03, 0x02, 0x03, 0x03, 0x02, 0x01, 0x02, 0x03, 0x03, 0x02, 0x02, 0x02, 0x03, 0x03, 0x02, 0x03, 0x04, 0x02, 0x02, 0x03, 0x02, 0x02, 0x02, 0x02, 0x02, 0x02, 0x02, 0x03, 0x02, 0x03, 0x03, 0x02, 0x02, 0x03, 0x02, 0x02, 0x01, 0x04, 0x02, 0x01, 0x01, 0x04, 0x02, 0x02, 0x03, 0x04, 0x02, 0x03, 0x04, 0x01, 0x03, 0x02, 0x02, 0x02, 0x01, 0x03, 0x01, 0x02, 0x03, 0x03, 0x02, 0x03, 0x02, 0x02, 0x03, 0x01, 0x03, 0x03, 0x02, 0x02, 0x03, 0x03, 0x02, 0x03, 0x02, 0x02, 0x02, 0x02, 0x02, 0x02, 0x02, 0x03, 0x02, 0x04, 0x02, 0x02, 0x02, 0x03, 0x03, 0x01, 0x03, 0x01, 0x04, 0x02, 0x02, 0x03, 0x03, 0x01, 0x02, 0x01, 0x02, 0x03, 0x01, 0x02, 0x04, 0x03, 0x02, 0x01, 0x02, 0x03, 0x02, 0x03, 0x02, 0x02, 0x02, 0x03, 0x03, 0x03, 0x01, 0x02, 0x01, 0x02, 0x03, 0x03, 0x02, 0x02, 0x03, 0x02, 0x03, 0x01, 0x02, 0x02, 0x03, 0x03, 0x02, 0x02, 0x03, 0x02, 0x02, 0x03, 0x02, 0x01, 0x01, 0x03, 0x03, 0x03, 0x02, 0x02, 0x03, 0x02, 0x03, 0x01, 0x02, 0x03, 0x02, 0x03, 0x03, 0x01, 0x03, 0x03, 0x03, 0x04, 0x02, 0x02, 0x02, 0x02, 0x03, 0x03, 0x03, 0x02, 0x03, 0x02, 0x02, 0x02, 0x01, 0x03, 0x02, 0x02, 0x02, 0x02, 0x02, 0x03, 0x03, 0x03, 0x02, 0x03, 0x02, 0x03, 0x03, 0x02, 0x02, 0x03, 0x01, 0x02, 0x03, 0x03, 0x02, 0x03, 0x02, 0x03, 0x02, 0x01, 0x01, 0x02, 0x03, 0x01, 0x02, 0x02, 0x03, 0x01, 0x04, 0x03, 0x01, 0x03, 0x02, 0x03, 0x02, 0x03, 0x02, 0x03, 0x03, 0x03, 0x02, 0x04, 0x03, 0x03, 0x03, 0x03, 0x03, 0x03, 0x02, 0x03, 0x02, 0x02, 0x01, 0x02, 0x03, 0x03, 0x02, 0x03, 0x01, 0x02, 0x01, 0x01, 0x02, 0x04, 0x02, 0x03, 0x03, 0x03, 0x02, 0x03, 0x02, 0x01, 0x02, 0x02, 0x02, 0x04, 0x04, 0x01, 0x01, 0x02, 0x01, 0x02, 0x04, 0x05, 0x05, 0x05, 0x05, 0x05, 0x05, 0x05, 0x05, 0x05, 0x05, 0x05, 0x05, 0x05, 0x05, 0x05, 0x05, 0x05, 0x05, 0x05, 0x05, 0x05, 0x05, 0x05, 0x05, 0x05, 0x05, 0x05, 0x05, 0x05, 0x05, 0x05, 0x05, 0x05, 0x05, 0x05, 0x05, 0x05, 0x05, 0x05, 0x05, 0x05, 0x05, 0x05, 0x05, 0x05, 0x05, 0x05, 0x05, 0x05, 0x05, 0x05, 0x05, 0x05, 0x05, 0x05, 0x05, 0x05, 0x05, 0x05, 0x05, 0x05, 0x05, 0x05, 0x05, 0x05, 0x05, 0x05, 0x05, 0x05, 0x05, 0x05, 0x05, 0x05, 0x05, 0x05, 0x05, 0x05, 0x05, 0x05, 0x05, 0x05, 0x05, 0x05, 0x05, 0x05, 0x05, 0x05, 0x05, 0x05, 0x05, 0x05, 0x05, 0x05, 0x05, 0x05, 0x05, 0x05, 0x05, 0x05, 0x05, 0x05, 0x05, 0x05, 0x05, 0x05, 0x05, 0x05, 0x05, 0x05, 0x05, 0x05, 0x05, 0x05, 0x05, 0x05, 0x05, 0x05, 0x05, 0x05, 0x05, 0x05, 0x05, 0x05, 0x05, 0x05, 0x05, 0x05, 0x05, 0x05, 0x05, 0x05, 0x05, 0x05, 0x05, 0x05, 0x05, 0x05, 0x05, 0x05, 0x05, 0x05, 0x05, 0x05, 0x05, 0x05, 0x05, 0x05, 0x05, 0x05, 0x05, 0x05, 0x05, 0x05, 0x05, 0x05, 0x05, 0x05, 0x05, 0x05, 0x05, 0x05, 0x05, 0x05, 0x05, 0x05, 0x05, 0x05, 0x05, 0x05, 0x05, 0x05, 0x05, 0x05, 0x05, 0x05, 0x05, 0x05, 0x05, 0x05, 0x05, 0x05, 0x05, 0x05, 0x05, 0x05, 0x05, 0x05, 0x05, 0x05, 0x05, 0x05, 0x05, 0x05, 0x05, 0x05, 0x05, 0x05, 0x05, 0x05, 0x05, 0x05, 0x05, 0x05, 0x05, 0x05, 0x05, 0x05, 0x05, 0x05, 0x05, 0x05, 0x05, 0x05, 0x05, 0x05, 0x05, 0x05, 0x05, 0x05, 0x05, 0x05, 0x05, 0x05, 0x05, 0x05, 0x05, 0x05, 0x05, 0x05, 0x05, 0x05, 0x05, 0x05, 0x05, 0x05, 0x05, 0x05, 0x05, 0x05, 0x05, 0x05, 0x05, 0x05, 0x05, 0x05, 0x05, 0x05, 0x05, 0x05, 0x05, 0x05, 0x05, 0x05, 0x05, 0x05, 0x05, 0x05, 0x05, 0x05, 0x05, 0x05, 0x05, 0x05, 0x05, 0x05, 0x05, 0x05, 0x05, 0x05, 0x05, 0x05, 0x05, 0x05, 0x05, 0x05, 0x05, 0x05, 0x05, 0x05, 0x05, 0x05, 0x05, 0x05, 0x05, 0x05, 0x05, 0x05, 0x05, 0x05, 0x05, 0x05, 0x05, 0x05, 0x05, 0x05, 0x05, 0x05, 0x05, 0x05, 0x05, 0x05, 0x05, 0x05, 0x05, 0x05, 0x05, 0x05, 0x05, 0x05, 0x05, 0x05, 0x05, 0x05, 0x05, 0x05, 0x05, 0x05, 0x05, 0x05, 0x05, 0x05, 0x05, 0x05, 0x05, 0x05, 0x05, 0x05, 0x05, 0x05, 0x05, 0x05, 0x05, 0x05, 0x05, 0x05, 0x05, 0x05, 0x05, 0x05, 0x05, 0x05, 0x05, 0x05, 0x05, 0x05, 0x05, 0x05, 0x05, 0x05, 0x05, 0x05, 0x05, 0x05, 0x05, 0x05, 0x05, 0x05, 0x05, 0x05, 0x05, 0x05, 0x05, 0x05, 0x05, 0x05, 0x05, 0x05, 0x05, 0x05, 0x05, 0x05, 0x05, 0x05, 0x05, 0x05, 0x05, 0x05, 0x05, 0x05, 0x05, 0x05, 0x05, 0x05, 0x05, 0x05, 0x05, 0x05, 0x05, 0x05, 0x05, 0x05, 0x05, 0x05, 0x05, 0x05, 0x05, 0x05, 0x05, 0x05, 0x05, 0x05, 0x05, 0x05, 0x05, 0x05, 0x05, 0x05, 0x05, 0x05, 0x05, 0x05, 0x05, 0x05, 0x05, 0x05, 0x05, 0x05, 0x05, 0x05, 0x05, 0x05, 0x05, 0x05, 0x05, 0x05, 0x05, 0x05, 0x05, 0x05, 0x05, 0x05, 0x05, 0x05, 0x05, 0x05, 0x05, 0x05, 0x05, 0x05, 0x05, 0x05, 0x05, 0x05, 0x05, 0x05, 0x05, 0x05, 0x05, 0x05, 0x05, 0x05, 0x05, 0x05, 0x05, 0x05, 0x05, 0x05, 0x05, 0x05, 0x05, 0x05, 0x05, 0x05, 0x05, 0x05, 0x05, 0x05, 0x05, 0x05, 0x05, 0x05, 0x05, 0x05, 0x05, 0x05, 0x05, 0x05, 0x05, 0x05, 0x05, 0x05, 0x05, 0x05, 0x05, 0x05, 0x05, 0x05, 0x05, 0x05, 0x05, 0x05, 0x05, 0x05, 0x05, 0x05, 0x05, 0x05, 0x05, 0x05, 0x05, 0x05, 0x05, 0x05, 0x05, 0x05, 0x05, 0x05, 0x05, 0x05, 0x05, 0x05, 0x05, 0x05, 0x05, 0x05, 0x05, 0x05, 0x05, 0x05, 0x05, 0x05, 0x05, 0x05, 0x05, 0x05, 0x05, 0x05, 0x05, 0x05, 0x05, 0x05, 0x05, 0x05, 0x05, 0x05, 0x05, 0x05, 0x05, 0x05, 0x05, 0x05, 0x05, 0x05, 0x05, 0x05, 0x05, 0x05, 0x05, 0x05, 0x05, 0x05, 0x05, 0x05, 0x05, 0x05, 0x05, 0x05, 0x05, 0x05, 0x05, 0x05, 0x05, 0x05, 0x05, 0x05, 0x05, 0x05, 0x05, 0x05, 0x05, 0x05, 0x05, 0x05, 0x05, 0x05, 0x05, 0x05, 0x05, 0x05, 0x05, 0x05, 0x05, 0x05, 0x05, 0x05, 0x05, 0x05, 0x05, 0x05, 0x05, 0x05, 0x05, 0x05, 0x05, 0x05, 0x05, 0x05, 0x05, 0x05, 0x05, 0x05, 0x05, 0x05, 0x05, 0x05, 0x05, 0x05, 0x05, 0x05, 0x05, 0x05, 0x05, 0x05, 0x05, 0x05, 0x05, 0x05, 0x05, 0x05, 0x05, 0x05, 0x05, 0x05, 0x05, 0x05, 0x05, 0x05, 0x05, 0x05, 0x05, 0x05, 0x05, 0x05, 0x05, 0x05, 0x05, 0x05, 0x05, 0x05, 0x05, 0x05, 0x05, 0x05, 0x05, 0x05, 0x05, 0x05, 0x05, 0x05, 0x05, 0x05, 0x05, 0x05, 0x05, 0x05, 0x05, 0x05, 0x05, 0x05, 0x05, 0x05, 0x05, 0x05, 0x05, 0x05, 0x05, 0x05, 0x05, 0x05, 0x05, 0x05, 0x05, 0x05, 0x05, 0x05, 0x05, 0x05, 0x05, 0x05, 0x05, 0x05, 0x05, 0x05, 0x05, 0x05, 0x05, 0x05, 0x05, 0x05, 0x05, 0x05, 0x05, 0x05, 0x05, 0x05, 0x05, 0x05, 0x05, 0x05, 0x05, 0x05, 0x05, 0x05, 0x05, 0x05, 0x05, 0x05, 0x05, 0x05, 0x05, 0x05, 0x05, 0x05, 0x05, 0x05, 0x05, 0x05, 0x05, 0x05, 0x05, 0x05, 0x05, 0x05, 0x05, 0x05, 0x05, 0x05, 0x05, 0x05, 0x05, 0x05, 0x05, 0x05, 0x05, 0x05, 0x05, 0x05, 0x05, 0x05, 0x05, 0x05, 0x05, 0x05, 0x05, 0x05, 0x05, 0x05, 0x05, 0x05, 0x05, 0x05, 0x05, 0x05, 0x05, 0x05, 0x05, 0x05, 0x05, 0x05, 0x05, 0x05, 0x05, 0x05, 0x05, 0x05, 0x05, 0x05, 0x05, 0x05, 0x05, 0x05, 0x05, 0x05, 0x05, 0x05, 0x05, 0x05, 0x05, 0x05, 0x05, 0x05, 0x05, 0x05, 0x05, 0x05, 0x05, 0x05, 0x05, 0x05, 0x05, 0x05, 0x05, 0x05, 0x05, 0x05, 0x05, 0x05, 0x05, 0x05, 0x05, 0x05, 0x05, 0x05, 0x05, 0x05, 0x05, 0x05, 0x05, 0x05, 0x05, 0x05, 0x05, 0x05, 0x05, 0x05, 0x05, 0x05, 0x05, 0x05, 0x05, 0x05, 0x05, 0x05, 0x05, 0x05, 0x05, 0x05, 0x05, 0x05, 0x05, 0x05, 0x05, 0x05, 0x05, 0x05, 0x05, 0x05, 0x05, 0x05, 0x05, 0x05, 0x05, 0x05, 0x05, 0x05, 0x05, 0x05, 0x05, 0x05, 0x05, 0x05, 0x05, 0x05, 0x05, 0x05, 0x05, 0x05, 0x05, 0x05, 0x05, 0x05, 0x05, 0x05, 0x05, 0x05, 0x05, 0x05, 0x05, 0x05, 0x05, 0x05, 0x05, 0x05, 0x05, 0x05, 0x05, 0x05, 0x05, 0x05, 0x05, 0x05, 0x05, 0x05, 0x05, 0x05, 0x05, 0x05, 0x05, 0x05, 0x05, 0x05, 0x05]"
     ]
    }
   ],
   "source": [
    "print(est_alloc)"
   ]
  },
  {
   "cell_type": "code",
   "execution_count": 25,
   "id": "054875c5-36d2-4d77-b3af-6de27ddb212e",
   "metadata": {},
   "outputs": [],
   "source": [
    "new_alloc = [order[Int64(i)] for i in est_alloc];"
   ]
  },
  {
   "cell_type": "code",
   "execution_count": 32,
   "id": "79c9daae-3d2c-4391-af4c-013a287c44ce",
   "metadata": {},
   "outputs": [],
   "source": [
    "open(\"type_allocation.json\", \"w\") do f\n",
    "    JSON.print(f, new_alloc)\n",
    "end"
   ]
  },
  {
   "cell_type": "markdown",
   "id": "d7e9b7d4-0a72-4486-932e-1fa15464787e",
   "metadata": {},
   "source": [
    "## References\n",
    "\n",
    "Karrer, B., and M. E. J. Newman (2011): \"Stochastic Blockmodels and community structure in networks,\" Physical Review, 83(1).\n",
    "\n",
    "Peixoto, T. (2014): \"Efficient Monte Carlo and greedy heuristic for the inference of stochastic block models,\" Physical Review, 89(1)."
   ]
  }
 ],
 "metadata": {
  "kernelspec": {
   "display_name": "Julia 1.6.2",
   "language": "julia",
   "name": "julia-1.6"
  },
  "language_info": {
   "file_extension": ".jl",
   "mimetype": "application/julia",
   "name": "julia",
   "version": "1.6.2"
  },
  "widgets": {
   "application/vnd.jupyter.widget-state+json": {
    "state": {},
    "version_major": 2,
    "version_minor": 0
   }
  }
 },
 "nbformat": 4,
 "nbformat_minor": 5
}
