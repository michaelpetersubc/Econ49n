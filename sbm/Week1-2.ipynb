{
 "cells": [
  {
   "cell_type": "markdown",
   "id": "ed694953-31ac-4f34-b30e-71535243008b",
   "metadata": {},
   "source": [
    "# Symbolic Computation of Wage Estimates (directed search on outcome data)\n",
    "\n",
    "James Yu, 20 September 2021"
   ]
  },
  {
   "cell_type": "markdown",
   "id": "84ff7ce7-f614-4f46-8611-1fd8520cf2d3",
   "metadata": {},
   "source": [
    "This Jupyter notebook computes the estimated wages of the departments in the four-type VSE-EJM network estimation model. It implements the system of equations outlined at the end of [the first reading](https://montoya.econ.ubc.ca/papers/markets/notes.pdf)."
   ]
  },
  {
   "cell_type": "markdown",
   "id": "ec9f5662-3f71-43c7-8fce-0feb682ccd5c",
   "metadata": {},
   "source": [
    "We start by loading the data required to extrapolate two particular variables:"
   ]
  },
  {
   "cell_type": "code",
   "execution_count": 1,
   "id": "2735271e-3adb-4c7a-906f-e3f64ae13f3e",
   "metadata": {},
   "outputs": [],
   "source": [
    "using JSON"
   ]
  },
  {
   "cell_type": "code",
   "execution_count": 2,
   "id": "ae439a46-180a-41ee-b6e4-a38aecafc1fa",
   "metadata": {},
   "outputs": [
    {
     "data": {
      "text/plain": [
       "1"
      ]
     },
     "execution_count": 2,
     "metadata": {},
     "output_type": "execute_result"
    }
   ],
   "source": [
    "type_metrics = JSON.Parser.parsefile(\"type_metrics.json\")\n",
    "placement_rates = type_metrics[\"generic\"]\n",
    "do_not_print = 1"
   ]
  },
  {
   "cell_type": "markdown",
   "id": "885eb810-e782-4a8a-b023-53fe7fe4a913",
   "metadata": {},
   "source": [
    "The first of the two variables is the success rate $\\rho_s$ representing the probability $Q_s$ by which a firm with wage $w_s$ hires a worker. For an arbitrary department with type $s$, their success rate is the average success rate of all the type $s$ departments. In this particular setup we assume all the departments of type $s$ act as one unit with wage $w_s$, meaning the success rate is the fraction of all applicants that ended up being hired at $w_s$ divided by the total number of applicants."
   ]
  },
  {
   "cell_type": "markdown",
   "id": "5ebce363-ac6a-42e7-86b4-77ae22e9bcf1",
   "metadata": {},
   "source": [
    "The number of applicants hired at $w_s$ is the sum of hires into $s$ from each of the four possible academic types:"
   ]
  },
  {
   "cell_type": "code",
   "execution_count": 3,
   "id": "0f1a077c-d940-4f28-a690-0ef4856f9c69",
   "metadata": {},
   "outputs": [
    {
     "name": "stdout",
     "output_type": "stream",
     "text": [
      "Any[568, 109, 23, 10]: total hires = 710\n",
      "Any[586, 258, 87, 21]: total hires = 952\n",
      "Any[762, 681, 350, 58]: total hires = 1851\n",
      "Any[136, 197, 94, 88]: total hires = 515\n",
      "\n",
      "hire counts = [710 952 1851 515]"
     ]
    }
   ],
   "source": [
    "success_rates = [0 0 0 0]\n",
    "for i in 1:4\n",
    "    println(placement_rates[i][\"total_from\"], \": total hires = \", sum(placement_rates[i][\"total_from\"]))\n",
    "    success_rates[i] = sum(placement_rates[i][\"total_from\"])\n",
    "end\n",
    "println()\n",
    "print(\"hire counts = \", success_rates)"
   ]
  },
  {
   "cell_type": "markdown",
   "id": "3c52e721-ac18-4980-ae55-5f135fee78a5",
   "metadata": {},
   "source": [
    "The four stacked arrays represent the number of applicants hired at each $w_s$ after graduating from each academic type on the horizontal."
   ]
  },
  {
   "cell_type": "markdown",
   "id": "57ebc060-3f02-42dc-8ddd-8eede7f8bffc",
   "metadata": {},
   "source": [
    "The total number of applicants is the sum of all the graduates. These include the sinks, which do not show up in the \"from\" data because sinks do not graduate individuals. The \"to\" data, however, has them:"
   ]
  },
  {
   "cell_type": "code",
   "execution_count": 4,
   "id": "ab2f1700-e6f2-44f6-8539-4ad30a88d812",
   "metadata": {},
   "outputs": [
    {
     "name": "stdout",
     "output_type": "stream",
     "text": [
      "Any[568, 586, 762, 136, 306, 358, 460, 434]: total graduates = 3610\n",
      "Any[109, 258, 681, 197, 273, 274, 225, 587]: total graduates = 2604\n",
      "Any[23, 87, 350, 94, 170, 117, 89, 435]: total graduates = 1365\n",
      "Any[10, 21, 58, 88, 87, 23, 11, 152]: total graduates = 450\n",
      "\n",
      "total applicants = 8029"
     ]
    }
   ],
   "source": [
    "total_applicants = 0\n",
    "for i in 1:4\n",
    "    println(placement_rates[i][\"total_to\"], \": total graduates = \", sum(placement_rates[i][\"total_to\"]))\n",
    "    total_applicants += sum(placement_rates[i][\"total_to\"])\n",
    "end\n",
    "println()\n",
    "print(\"total applicants = \", total_applicants)"
   ]
  },
  {
   "cell_type": "markdown",
   "id": "3b3d48f1-000c-45e3-b535-cf1de1ea5041",
   "metadata": {},
   "source": [
    "The four stacked arrays here represent the number of applicants that graduated from each academic type $s$ and were hired at $w_s$ in either the academic types or the sinks, for a total of eight routes."
   ]
  },
  {
   "cell_type": "markdown",
   "id": "9e5a474b-c92a-406d-b807-308a7fdaf2c9",
   "metadata": {},
   "source": [
    "It follows that $\\rho_s$ is the rates divided by the total number of applicants:"
   ]
  },
  {
   "cell_type": "code",
   "execution_count": 5,
   "id": "bd18313e-7d81-48cb-87b1-5564f0517eed",
   "metadata": {},
   "outputs": [
    {
     "data": {
      "text/plain": [
       "1×4 Matrix{Float64}:\n",
       " 0.0884294  0.11857  0.230539  0.0641425"
      ]
     },
     "execution_count": 5,
     "metadata": {},
     "output_type": "execute_result"
    }
   ],
   "source": [
    "rho = success_rates / total_applicants"
   ]
  },
  {
   "cell_type": "markdown",
   "id": "63ebdf52-5e7f-4624-9804-0d82be52e20d",
   "metadata": {},
   "source": [
    "We can determine as well what percentage of applicants were unsuccessful in finding a position:"
   ]
  },
  {
   "cell_type": "code",
   "execution_count": 6,
   "id": "d609e943-503d-4942-8cda-9c2e53f08a66",
   "metadata": {},
   "outputs": [
    {
     "data": {
      "text/plain": [
       "0.5016814049072114"
      ]
     },
     "execution_count": 6,
     "metadata": {},
     "output_type": "execute_result"
    }
   ],
   "source": [
    "sum(rho) # this is the fraction of successful applicants"
   ]
  },
  {
   "cell_type": "code",
   "execution_count": 7,
   "id": "8b80b52a-fd8d-4fa8-ba22-e2d87b493789",
   "metadata": {},
   "outputs": [
    {
     "data": {
      "text/plain": [
       "0.49831859509278864"
      ]
     },
     "execution_count": 7,
     "metadata": {},
     "output_type": "execute_result"
    }
   ],
   "source": [
    "1 - sum(rho) \n",
    "# this is what we expect to be the fraction of unsuccessful applicants, \n",
    "# that ended up in the sinks"
   ]
  },
  {
   "cell_type": "markdown",
   "id": "f052e90e-24c8-4848-921a-9bad23c31c27",
   "metadata": {},
   "source": [
    "or through a direct measurement method:"
   ]
  },
  {
   "cell_type": "code",
   "execution_count": 8,
   "id": "540394da-8c67-4f06-b032-726db034fb41",
   "metadata": {},
   "outputs": [
    {
     "data": {
      "text/plain": [
       "0.49831859509278864"
      ]
     },
     "execution_count": 8,
     "metadata": {},
     "output_type": "execute_result"
    }
   ],
   "source": [
    "(total_applicants - sum(success_rates)) / total_applicants \n",
    "# this is the number of applicants not hired at an academic type,\n",
    "# divided by the total number of applicants\n",
    "# it should be the exact same number as 1 - sum(rho)"
   ]
  },
  {
   "cell_type": "markdown",
   "id": "e4f673fa-cb6f-46e1-a974-d9103bbfa25b",
   "metadata": {},
   "source": [
    "Now that we have $\\rho_s$, the second of the two variables to find is the probabilities $F(x_s)$ that a worker has a type less than or equal to $s$. We do this here by simply counting the number of such workers, or in this case applicants.\n",
    "\n",
    "In this case counting refers to observing the number of graduates that graduated from a type $s$ department."
   ]
  },
  {
   "cell_type": "code",
   "execution_count": 9,
   "id": "f2a0404d-e448-42d8-ab61-eac491e0a7f4",
   "metadata": {},
   "outputs": [
    {
     "data": {
      "text/plain": [
       "1×5 Matrix{Float64}:\n",
       " 1.0  0.55038  0.226056  0.0560468  0.0"
      ]
     },
     "execution_count": 9,
     "metadata": {},
     "output_type": "execute_result"
    }
   ],
   "source": [
    "F = [total_applicants 0 0 0 0]\n",
    "counter = total_applicants\n",
    "for i in 1:4\n",
    "    counter -= sum(placement_rates[i][\"total_to\"])\n",
    "    F[i+1] = counter\n",
    "end   \n",
    "F = F / total_applicants"
   ]
  },
  {
   "cell_type": "markdown",
   "id": "436d13da-d4b3-4f48-b720-d0e14c7ec0f2",
   "metadata": {},
   "source": [
    "\n",
    "To read this, we observe $F(x_1) = 1$, $F(x_2) = 0.91$, etc."
   ]
  },
  {
   "cell_type": "markdown",
   "id": "57839514-54cb-4105-97c5-836a24340d83",
   "metadata": {},
   "source": [
    "Now, we can solve for the system of equations which provide estimates for the wages $w_s$. A version of this is (0.7) in the original reading, but here we derive it from scratch so it aligns better with what will eventually be the code."
   ]
  },
  {
   "cell_type": "markdown",
   "id": "1cc3daab-8013-4bcb-a466-8f653dfa9449",
   "metadata": {},
   "source": [
    "We found $p_s$, which is the success rate of an average firm of each type. We defined $p_s = Q_s(w_1, \\dots, w_s)$ as the probability that a firm of type $s$ hires an applicant.\n",
    "\n",
    "This means $Q_s = 1 - P(\\text{the firm does not hire anyone}) = 1 - P(\\text{nobody applies to the firm}) = 1 - (P(\\text{a particular applicant does not apply to the firm}))^m$ where $m$ is the number of applicants. We know $m = 8029$ by the above results."
   ]
  },
  {
   "cell_type": "markdown",
   "id": "7d83122f-75bf-4165-9cab-f9f2a34a6b2d",
   "metadata": {},
   "source": [
    "Thus, $Q_s = 1 - (1 - P(\\text{a particular applicant applies to the firm}))^m$. The question now is what $P(\\text{a particular applicant applies to the firm})$ is. Denote this unknown as $R_s$."
   ]
  },
  {
   "cell_type": "markdown",
   "id": "2281028b-d86c-4495-8667-b6e079657450",
   "metadata": {},
   "source": [
    "Since the type of any one applicant is not known, we take this value as the linear combination of application probabilities for every type. Mathematically:\n",
    "\n",
    "$$R_s = \\sum_{\\text{all types t}} \\big[(F(x_t) - F(x_{t+1})) \\cdot P(x_t \\text{ applies to } w_s)\\big]$$"
   ]
  },
  {
   "cell_type": "markdown",
   "id": "b9639c78-d9ec-4456-b7a3-1fdba71173e3",
   "metadata": {},
   "source": [
    "Instead of deriving the probability inside the equation for $R_s$, we can construct a lookup table for the probability that $x_t$ applies to $w_s$. This is simply the equilibrium strategies from the table on page 2 of the reading. In particular, since the number of types here is four, our table would look like:"
   ]
  },
  {
   "cell_type": "markdown",
   "id": "2c5b536d-93f3-425d-8fc5-01fb470d8904",
   "metadata": {},
   "source": [
    "$$\\begin{bmatrix}\n",
    "x_1: & \\pi_1 & 0 & 0 & 0 \\\\\n",
    "x_2: & (1 - \\pi_2)\\pi_1 & \\pi_2 & 0 & 0 \\\\\n",
    "x_3: & (1 - \\pi_3)(1 - \\pi_2)\\pi_1 & (1 - \\pi_3)\\pi_2 & \\pi_3 & 0 \\\\\n",
    "x_4: & (1 - \\pi_4)(1 - \\pi_3)(1 - \\pi_2)\\pi_1 & (1 - \\pi_4)(1 - \\pi_3)\\pi_2 & (1 - \\pi_4)\\pi_3 & \\pi_4\n",
    "\\end{bmatrix}$$"
   ]
  },
  {
   "cell_type": "markdown",
   "id": "a158da23-d643-41c3-98c6-7a89d7014795",
   "metadata": {},
   "source": [
    "where $\\pi_1 = 1$ is included to show the structural patterns in the table. This allows the following four equations to be constructed:"
   ]
  },
  {
   "cell_type": "markdown",
   "id": "8c71031e-11a6-41a1-8a8f-1456a3c09355",
   "metadata": {},
   "source": [
    "$$Q_1 = 1 - \\bigg[1 - \\big[(F(x_1) - F(x_2))(\\pi_1) + (F(x_2) - F(x_3))(1-\\pi_2)(\\pi_1) + (F(x_3) - F(x_4))(1 - \\pi_3)(1 - \\pi_2)(\\pi_1) + (F(x_4) - F(x_5))(1 - \\pi_4)(1 - \\pi_3)(1 - \\pi_2)(\\pi_1)\\big]\\bigg]^m$$"
   ]
  },
  {
   "cell_type": "markdown",
   "id": "2360ff51-e422-4ec6-86fc-4202ac63ade2",
   "metadata": {},
   "source": [
    "$$Q_2 = 1 - \\bigg[1 - \\big[(F(x_2) - F(x_3))(\\pi_2) + (F(x_3) - F(x_4))(1 - \\pi_3)(\\pi_2) + (F(x_4) - F(x_5))(1 - \\pi_4)(1 - \\pi_3)(\\pi_2)\\big]\\bigg]^m$$"
   ]
  },
  {
   "cell_type": "markdown",
   "id": "0b29fffa-8567-4c69-ae20-9e52665644ac",
   "metadata": {},
   "source": [
    "$$Q_3 = 1 - \\bigg[1 - \\big[(F(x_3) - F(x_4))(\\pi_3) + (F(x_4) - F(x_5))(1 - \\pi_4)(\\pi_3)\\big]\\bigg]^m$$"
   ]
  },
  {
   "cell_type": "markdown",
   "id": "33e613e9-3779-4143-8a6f-9135d5c5f9a4",
   "metadata": {},
   "source": [
    "$$Q_4 = 1 - \\bigg[1 - \\big[(F(x_4) - F(x_5))(\\pi_4)\\big]\\bigg]^m$$"
   ]
  },
  {
   "cell_type": "markdown",
   "id": "e4418297-a536-403c-a903-107ca1bc76a4",
   "metadata": {},
   "source": [
    "This is the system of equations from which we can solve for $\\pi_s$, which then allows us to solve for wages."
   ]
  },
  {
   "cell_type": "markdown",
   "id": "533ba442-c0eb-406d-9e9a-ae6750d97156",
   "metadata": {},
   "source": [
    "Most importantly, however, is that because $Q_4$ is a function of only $\\pi_4$, we can back-substitute to retrieve all values of $\\pi_s$."
   ]
  },
  {
   "cell_type": "markdown",
   "id": "e4f93510-e9bf-4f14-89a1-80b7085a8f6d",
   "metadata": {},
   "source": [
    "$$1 - (1 - Q_4)^\\frac{1}{m} = F(x_4)\\pi_4$$\n",
    "\n",
    "$$\\pi_4 = \\frac{1 - (1 - Q_4)^\\frac{1}{m}}{F(x_4)}$$"
   ]
  },
  {
   "cell_type": "markdown",
   "id": "03e93188-9ca4-4743-86ff-983a5213068d",
   "metadata": {},
   "source": [
    "From here it would be efficient to obtain numerical results for back-substitution. We do the following:"
   ]
  },
  {
   "cell_type": "code",
   "execution_count": 10,
   "id": "9c49aabc-c891-4bb8-abc8-e26a39477fa9",
   "metadata": {},
   "outputs": [
    {
     "name": "stdout",
     "output_type": "stream",
     "text": [
      "[0.08842944326815294 0.11857018308631212 0.2305392950554241 0.06414248349732221]\n",
      "[1.0 0.5503798729605182 0.2260555486361938 0.056046830240378626 0.0]\n"
     ]
    }
   ],
   "source": [
    "println(rho)\n",
    "println(F)"
   ]
  },
  {
   "cell_type": "code",
   "execution_count": 11,
   "id": "1596115d-a2ed-496b-8827-11aeac1e0ae2",
   "metadata": {},
   "outputs": [
    {
     "data": {
      "text/plain": [
       "0.00014731503639711047"
      ]
     },
     "execution_count": 11,
     "metadata": {},
     "output_type": "execute_result"
    }
   ],
   "source": [
    "m = total_applicants\n",
    "π_4 = (1 - (1 - rho[4])^(1/m)) / F[4]"
   ]
  },
  {
   "cell_type": "markdown",
   "id": "6a234e5c-f412-45b5-9f54-0bee1b8eceae",
   "metadata": {},
   "source": [
    "We know:\n",
    "\n",
    "$$1 - (1 - Q_3)^\\frac{1}{m} = (F(x_3) - F(x_4))(\\pi_3) + (F(x_4))(1 - \\pi_4)(\\pi_3)$$"
   ]
  },
  {
   "cell_type": "markdown",
   "id": "67b8d4e1-9f83-451b-bf13-0e615178a14b",
   "metadata": {},
   "source": [
    "$$1 - (1 - Q_3)^\\frac{1}{m} = \\pi_3((F(x_3) - F(x_4)) + (F(x_4))(1 - \\pi_4))$$"
   ]
  },
  {
   "cell_type": "code",
   "execution_count": 12,
   "id": "ec725285-43cc-4514-938b-fc0c4c742810",
   "metadata": {},
   "outputs": [
    {
     "data": {
      "text/plain": [
       "0.00014439156354594202"
      ]
     },
     "execution_count": 12,
     "metadata": {},
     "output_type": "execute_result"
    }
   ],
   "source": [
    "π_3 = (1 - (1 - rho[3])^(1/m)) / (F[3] - F[4] * π_4)"
   ]
  },
  {
   "cell_type": "markdown",
   "id": "3ae374a9-7e35-441b-9df4-2a30a14c5a06",
   "metadata": {},
   "source": [
    "Next:\n",
    "\n",
    "$$1 - (1 - Q_2)^\\frac{1}{m} = (F(x_2) - F(x_3))(\\pi_2) + (F(x_3) - F(x_4))(1 - \\pi_3)(\\pi_2) + (F(x_4))(1 - \\pi_4)(1 - \\pi_3)(\\pi_2)$$"
   ]
  },
  {
   "cell_type": "markdown",
   "id": "7cd6d28e-26c9-402c-9a6b-f6c8f2e43273",
   "metadata": {},
   "source": [
    "$$1 - (1 - Q_2)^\\frac{1}{m} = \\pi_2\\big[(F(x_2) - F(x_3)) + (F(x_3) - F(x_4))(1 - \\pi_3) + (F(x_4))(1 - \\pi_4)(1 - \\pi_3)\\big]$$"
   ]
  },
  {
   "cell_type": "code",
   "execution_count": 13,
   "id": "f3d082e4-149b-4c0a-9a79-9e92436d0ebe",
   "metadata": {},
   "outputs": [
    {
     "data": {
      "text/plain": [
       "2.856177827987146e-5"
      ]
     },
     "execution_count": 13,
     "metadata": {},
     "output_type": "execute_result"
    }
   ],
   "source": [
    "π_2 = (1 - (1 - rho[2])^(1/m)) / (F[2] - F[3]*π_3 + F[4]*π_4*(1-π_3))"
   ]
  },
  {
   "cell_type": "markdown",
   "id": "7378e0db-10b9-47a6-9ab0-04931cdbbe3b",
   "metadata": {},
   "source": [
    "$$1 - (1 - Q_1)^\\frac{1}{m} = \\pi_1\\big[(F(x_1) - F(x_2)) + (F(x_2) - F(x_3))(1-\\pi_2) + (F(x_3) - F(x_4))(1 - \\pi_3)(1 - \\pi_2) + (F(x_4))(1 - \\pi_4)(1 - \\pi_3)(1 - \\pi_2)\\big]$$"
   ]
  },
  {
   "cell_type": "code",
   "execution_count": 14,
   "id": "2a15efe3-6086-4800-88f2-96f010695196",
   "metadata": {},
   "outputs": [
    {
     "data": {
      "text/plain": [
       "1.1532069840717093e-5"
      ]
     },
     "execution_count": 14,
     "metadata": {},
     "output_type": "execute_result"
    }
   ],
   "source": [
    "π_1 = (1 - (1 - rho[1])^(1/m)) / ((F[1] - F[2]) + (F[2] - F[3])*(1 - π_2) + (F[3] - F[4])*(1 - π_3)*(1 - π_2) + F[4]*(1 - π_4) * (1 - π_3) * (1 - π_2))"
   ]
  },
  {
   "cell_type": "markdown",
   "id": "20426858-f7cb-4e4d-8e9f-1a09270f279e",
   "metadata": {},
   "source": [
    "This last one is wrong, however, because we need $\\pi_1 = 1$."
   ]
  },
  {
   "cell_type": "markdown",
   "id": "544b1e72-44bb-42b2-9227-185f7b2168da",
   "metadata": {},
   "source": [
    "Now we check our answers. $Q_s$ is:"
   ]
  },
  {
   "cell_type": "code",
   "execution_count": 15,
   "id": "91f8bc0a-cb5d-4f6f-88ca-b65701d66b16",
   "metadata": {},
   "outputs": [
    {
     "data": {
      "text/plain": [
       "1×4 Matrix{Float64}:\n",
       " 0.0884294  0.11857  0.230539  0.0641425"
      ]
     },
     "execution_count": 15,
     "metadata": {},
     "output_type": "execute_result"
    }
   ],
   "source": [
    "rho"
   ]
  },
  {
   "cell_type": "markdown",
   "id": "e734eb14-ff71-462e-953e-04be45a12c5f",
   "metadata": {},
   "source": [
    "So we use this to compare."
   ]
  },
  {
   "cell_type": "code",
   "execution_count": 16,
   "id": "05ee6eb7-3ab7-4b35-9589-3b180ff5816c",
   "metadata": {},
   "outputs": [
    {
     "data": {
      "text/plain": [
       "0.08842944326775415"
      ]
     },
     "execution_count": 16,
     "metadata": {},
     "output_type": "execute_result"
    }
   ],
   "source": [
    "1 - (1 - ((F[1] - F[2])*(π_1) + (F[2] - F[3])*(1-π_2)*(π_1) + (F[3] - F[4])*(1 - π_3)*(1 - π_2)*(π_1) + (F[4])*(1 - π_4)*(1 - π_3)*(1 - π_2)*(π_1)))^m"
   ]
  },
  {
   "cell_type": "code",
   "execution_count": 17,
   "id": "6bebb2f8-8c61-4e60-a08d-53176159a76e",
   "metadata": {},
   "outputs": [
    {
     "data": {
      "text/plain": [
       "0.1185668456919472"
      ]
     },
     "execution_count": 17,
     "metadata": {},
     "output_type": "execute_result"
    }
   ],
   "source": [
    "1 - (1 - ((F[2] - F[3])*(π_2) + (F[3] - F[4])*(1 - π_3)*(π_2) + (F[4])*(1 - π_4)*(1 - π_3)*(π_2)))^m"
   ]
  },
  {
   "cell_type": "code",
   "execution_count": 18,
   "id": "0f59acd6-5fc5-4dcc-bb91-187accf14064",
   "metadata": {},
   "outputs": [
    {
     "data": {
      "text/plain": [
       "0.2305392950550832"
      ]
     },
     "execution_count": 18,
     "metadata": {},
     "output_type": "execute_result"
    }
   ],
   "source": [
    "1 - (1 - ((F[3] - F[4])*(π_3) + (F[4])*(1 - π_4)*(π_3)))^m"
   ]
  },
  {
   "cell_type": "code",
   "execution_count": 19,
   "id": "45c577a5-5df4-4614-a78d-027f3d84f8e3",
   "metadata": {},
   "outputs": [
    {
     "data": {
      "text/plain": [
       "0.06414248349711116"
      ]
     },
     "execution_count": 19,
     "metadata": {},
     "output_type": "execute_result"
    }
   ],
   "source": [
    "1 - (1 - ((F[4])*(π_4)))^m"
   ]
  },
  {
   "cell_type": "markdown",
   "id": "36e94ca1-6024-452c-a07f-eaf4616f86a5",
   "metadata": {},
   "source": [
    "So everything resolves. Thus, we now have $\\pi_s$, so we can solve for the wages. Recall from the reading that the formula for the wages is equation (0.5):"
   ]
  },
  {
   "cell_type": "markdown",
   "id": "01efb5be-7c8c-442b-9a54-e161f5c35f6c",
   "metadata": {},
   "source": [
    "$$\\pi_s = \\frac{1}{1 + (\\frac{w_s}{w_{s-1}})^\\frac{1}{m-1}}$$"
   ]
  },
  {
   "cell_type": "markdown",
   "id": "5135ac68-dafe-4bf7-8a2b-de6f232aabdd",
   "metadata": {},
   "source": [
    "We can extract the wages by doing the following sequence of operations:"
   ]
  },
  {
   "cell_type": "markdown",
   "id": "fa92db1c-e5ae-4715-8ffc-633e93fd971f",
   "metadata": {},
   "source": [
    "$$\\frac{1}{\\pi_s} = 1 + (\\frac{w_s}{w_{s-1}})^\\frac{1}{m-1}$$"
   ]
  },
  {
   "cell_type": "markdown",
   "id": "0d9302e9-c243-4db8-8cf7-88ef979c1756",
   "metadata": {},
   "source": [
    "$$(1 - \\frac{1}{\\pi_s})^{m-1} = \\frac{w_s}{w_{s-1}}$$"
   ]
  },
  {
   "cell_type": "markdown",
   "id": "2dbb0bbf-2bb8-4472-9081-35c1a92edae6",
   "metadata": {},
   "source": [
    "This provides us with a sequence of ratios."
   ]
  },
  {
   "cell_type": "code",
   "execution_count": 20,
   "id": "6b43d229-e582-42c9-918d-6b26f647b8a2",
   "metadata": {},
   "outputs": [
    {
     "data": {
      "text/plain": [
       "-6787.173321997799"
      ]
     },
     "execution_count": 20,
     "metadata": {},
     "output_type": "execute_result"
    }
   ],
   "source": [
    "(1 - (1/π_4))"
   ]
  },
  {
   "cell_type": "code",
   "execution_count": 21,
   "id": "0a7a5b89-476e-4886-b124-baae424fd091",
   "metadata": {},
   "outputs": [
    {
     "data": {
      "text/plain": [
       "-6924.612379575234"
      ]
     },
     "execution_count": 21,
     "metadata": {},
     "output_type": "execute_result"
    }
   ],
   "source": [
    "(1 - (1/π_3))"
   ]
  },
  {
   "cell_type": "code",
   "execution_count": 22,
   "id": "f8a0b7e9-5330-4be0-9feb-7f201310c8b6",
   "metadata": {},
   "outputs": [
    {
     "data": {
      "text/plain": [
       "-35010.825601375"
      ]
     },
     "execution_count": 22,
     "metadata": {},
     "output_type": "execute_result"
    }
   ],
   "source": [
    "(1 - (1/π_2))"
   ]
  },
  {
   "cell_type": "code",
   "execution_count": 23,
   "id": "4ba42447-ca82-42cd-95ec-d366a57be63e",
   "metadata": {},
   "outputs": [
    {
     "data": {
      "text/plain": [
       "0.0"
      ]
     },
     "execution_count": 23,
     "metadata": {},
     "output_type": "execute_result"
    }
   ],
   "source": [
    "(1 - (1/1))"
   ]
  },
  {
   "cell_type": "markdown",
   "id": "965171b1-4f3f-4ef1-a26c-e352e28211ad",
   "metadata": {},
   "source": [
    "But:"
   ]
  },
  {
   "cell_type": "code",
   "execution_count": 24,
   "id": "a133b856-18c5-4eb5-955f-debb8953ef53",
   "metadata": {},
   "outputs": [
    {
     "data": {
      "text/plain": [
       "Inf"
      ]
     },
     "execution_count": 24,
     "metadata": {},
     "output_type": "execute_result"
    }
   ],
   "source": [
    "(1 - (1/π_4))^(m-1)"
   ]
  },
  {
   "cell_type": "markdown",
   "id": "ad9048e1-193f-4a32-99d8-5e94368750d9",
   "metadata": {},
   "source": [
    "This is infinity, which is a problem."
   ]
  }
 ],
 "metadata": {
  "kernelspec": {
   "display_name": "Julia 1.6.2",
   "language": "julia",
   "name": "julia-1.6"
  },
  "language_info": {
   "file_extension": ".jl",
   "mimetype": "application/julia",
   "name": "julia",
   "version": "1.6.2"
  },
  "widgets": {
   "application/vnd.jupyter.widget-state+json": {
    "state": {},
    "version_major": 2,
    "version_minor": 0
   }
  }
 },
 "nbformat": 4,
 "nbformat_minor": 5
}
